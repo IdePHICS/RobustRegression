{
 "cells": [
  {
   "cell_type": "code",
   "execution_count": 2,
   "metadata": {},
   "outputs": [],
   "source": [
    "import robust_regression.sweeps.alpha_sweeps as alsw\n",
    "import matplotlib.pyplot as plt\n",
    "import robust_regression.regression_numerics.data_generation as dg\n",
    "import robust_regression.aux_functions.prior_regularization_funcs as priors\n",
    "import robust_regression.aux_functions.likelihood_channel_functions as like\n",
    "import robust_regression.regression_numerics.amp_funcs as amp\n",
    "import robust_regression.regression_numerics.erm_solvers as erm\n",
    "from robust_regression.utils.errors import ConvergenceError\n",
    "from tqdm.auto import tqdm\n",
    "from robust_regression.fixed_point_equations.fpe_L2_loss import (\n",
    "    var_hat_func_L2_decorrelated_noise,\n",
    ")\n",
    "from robust_regression.fixed_point_equations.fpe_BO import var_func_BO, var_hat_func_BO_num_decorrelated_noise\n",
    "from robust_regression.fixed_point_equations.fpe_L1_loss import (\n",
    "    var_hat_func_L1_decorrelated_noise,\n",
    ")\n",
    "from robust_regression.fixed_point_equations.fpe_Huber_loss import (\n",
    "    var_hat_func_Huber_decorrelated_noise,\n",
    ")\n",
    "from robust_regression.fixed_point_equations.fpe_L2_regularization import var_func_L2\n",
    "from robust_regression.aux_functions.misc import estimation_error\n",
    "import numpy as np"
   ]
  },
  {
   "cell_type": "code",
   "execution_count": 3,
   "metadata": {},
   "outputs": [],
   "source": [
    "def sigma_order_param(m, q, sigma):\n",
    "    return sigma\n",
    "\n",
    "\n",
    "def q_order_param(m, q, sigma):\n",
    "    return q\n",
    "\n",
    "\n",
    "def m_order_param(m, q, sigma):\n",
    "    return m"
   ]
  },
  {
   "attachments": {},
   "cell_type": "markdown",
   "metadata": {},
   "source": [
    "## Theory Simulations"
   ]
  },
  {
   "cell_type": "code",
   "execution_count": 13,
   "metadata": {},
   "outputs": [],
   "source": [
    "delta_in, delta_out, percentage, beta = 1.0, 5.0, 0.3, 0.0\n",
    "alpha_min, alpha_max, n_alpha_pts = 0.1, 1000, 200\n",
    "n_alpha_pts_BO = 12\n",
    "delta_eff = (1 - percentage) * delta_in + percentage * delta_out\n",
    "plateau_alpha_inf = (1 - percentage) * percentage**2 * (1 - beta) ** 2 + percentage * (1 - percentage) ** 2 * (\n",
    "    beta - 1\n",
    ") ** 2"
   ]
  },
  {
   "cell_type": "code",
   "execution_count": 14,
   "metadata": {},
   "outputs": [
    {
     "name": "stdout",
     "output_type": "stream",
     "text": [
      "L2 done\n",
      "L1 done\n",
      "Huber done\n",
      "BO done\n"
     ]
    }
   ],
   "source": [
    "\n",
    "(\n",
    "    alphas_L2,\n",
    "    f_min_vals_L2,\n",
    "    reg_param_opt_L2,\n",
    "    (sigmas_L2, qs_L2, ms_L2),\n",
    ") = alsw.sweep_alpha_optimal_lambda_fixed_point(\n",
    "    var_func_L2,\n",
    "    var_hat_func_L2_decorrelated_noise,\n",
    "    alpha_min,\n",
    "    alpha_max,\n",
    "    n_alpha_pts,\n",
    "    3.0,\n",
    "    {\"reg_param\": 3.0},\n",
    "    {\n",
    "        \"delta_in\": delta_in,\n",
    "        \"delta_out\": delta_out,\n",
    "        \"percentage\": percentage,\n",
    "        \"beta\": beta,\n",
    "    },\n",
    "    initial_cond_fpe=(0.6, 0.01, 0.9),\n",
    "    f_min=estimation_error,\n",
    "    f_min_args={},\n",
    "    funs=[sigma_order_param, q_order_param, m_order_param],\n",
    "    funs_args=[{}, {}, {}],\n",
    "    min_reg_param=1e-5, \n",
    ")\n",
    "\n",
    "print(\"L2 done\")\n",
    "\n",
    "(\n",
    "    alphas_L1,\n",
    "    f_min_vals_L1,\n",
    "    reg_param_opt_L1,\n",
    "    (sigmas_L1, qs_L1, ms_L1),\n",
    ") = alsw.sweep_alpha_optimal_lambda_fixed_point(\n",
    "    var_func_L2,\n",
    "    var_hat_func_L1_decorrelated_noise,\n",
    "    alpha_min,\n",
    "    alpha_max,\n",
    "    n_alpha_pts,\n",
    "    3.0,\n",
    "    {\"reg_param\": 3.0},\n",
    "    {\n",
    "        \"delta_in\": delta_in,\n",
    "        \"delta_out\": delta_out,\n",
    "        \"percentage\": percentage,\n",
    "        \"beta\": beta,\n",
    "    },\n",
    "    initial_cond_fpe=(0.6, 0.01, 0.9),\n",
    "    f_min=estimation_error,\n",
    "    f_min_args={},\n",
    "    funs=[sigma_order_param, q_order_param, m_order_param],\n",
    "    funs_args=[{}, {}, {}],\n",
    "    min_reg_param=1e-5,\n",
    ")\n",
    "\n",
    "print(\"L1 done\")\n",
    "\n",
    "(\n",
    "    alphas_Hub,\n",
    "    f_min_vals_Hub,\n",
    "    (reg_param_opt_Hub, hub_params_opt_Hub),\n",
    "    (sigmas_Hub, qs_Hub, ms_Hub),\n",
    ") = alsw.sweep_alpha_optimal_lambda_hub_param_fixed_point(\n",
    "    var_func_L2,\n",
    "    var_hat_func_Huber_decorrelated_noise,\n",
    "    alpha_min,\n",
    "    alpha_max,\n",
    "    n_alpha_pts,\n",
    "    [3.0, 0.5],\n",
    "    {\"reg_param\": 3.0},\n",
    "    {\n",
    "        \"delta_in\": delta_in,\n",
    "        \"delta_out\": delta_out,\n",
    "        \"percentage\": percentage,\n",
    "        \"beta\": beta,\n",
    "        \"a\": 1.0,\n",
    "    },\n",
    "    initial_cond_fpe=(0.6, 0.01, 0.9),\n",
    "    f_min=estimation_error,\n",
    "    f_min_args={},\n",
    "    funs=[sigma_order_param, q_order_param, m_order_param],\n",
    "    funs_args=[{}, {}, {}],\n",
    "    min_reg_param=1e-5,\n",
    ")\n",
    "\n",
    "print(\"Huber done\")\n",
    "\n",
    "alphas_BO, (gen_error_BO_old, qs_BO) = alsw.sweep_alpha_fixed_point(\n",
    "    var_func_BO,\n",
    "    var_hat_func_BO_num_decorrelated_noise,\n",
    "    alpha_min,\n",
    "    alpha_max,\n",
    "    n_alpha_pts_BO,\n",
    "    {\"reg_param\": 1e-5},\n",
    "    {\n",
    "        \"delta_in\": delta_in,\n",
    "        \"delta_out\": delta_out,\n",
    "        \"percentage\": percentage,\n",
    "        \"beta\": beta,\n",
    "    },\n",
    "    initial_cond_fpe=(0.6, 0.01, 0.9),\n",
    "    funs=[estimation_error, q_order_param],\n",
    "    funs_args=[{}, {}],\n",
    "    decreasing=False,\n",
    ")\n",
    "\n",
    "print(\"BO done\")"
   ]
  },
  {
   "attachments": {},
   "cell_type": "markdown",
   "metadata": {},
   "source": [
    "## Numerical Experiments"
   ]
  },
  {
   "cell_type": "code",
   "execution_count": 15,
   "metadata": {},
   "outputs": [
    {
     "name": "stdout",
     "output_type": "stream",
     "text": [
      "alphas expample\n",
      " [0.20022004 0.40088063 0.80264335 1.60705282 3.21764175 6.44236351]\n"
     ]
    }
   ],
   "source": [
    "d = 300\n",
    "repetitions = 100\n",
    "\n",
    "end = 7\n",
    "skip = 15\n",
    "\n",
    "print(\"alphas expample\\n\", alphas_L2[::skip][1:-end])"
   ]
  },
  {
   "cell_type": "code",
   "execution_count": 16,
   "metadata": {},
   "outputs": [
    {
     "data": {
      "application/vnd.jupyter.widget-view+json": {
       "model_id": "796436b73e71478d85b56201bc8fa839",
       "version_major": 2,
       "version_minor": 0
      },
      "text/plain": [
       "  0%|          | 0/6 [00:00<?, ?it/s]"
      ]
     },
     "metadata": {},
     "output_type": "display_data"
    },
    {
     "name": "stdout",
     "output_type": "stream",
     "text": [
      "[0.20022004 0.40088063 0.80264335 1.60705282 3.21764175 6.44236351] [0.96887707 0.92223074 0.89091666 0.77735725 0.63728457 0.46221705]\n",
      "L2 sim done\n"
     ]
    }
   ],
   "source": [
    "alpha_list_sim_L2 = alphas_L2[::skip][1:-end]\n",
    "lambd_list_L2 = reg_param_opt_L2[::skip][1:-end]\n",
    "\n",
    "L2_estim_error_sim_mean = np.zeros(len(alpha_list_sim_L2))\n",
    "L2_estim_error_sim_std = np.zeros(len(alpha_list_sim_L2))\n",
    "\n",
    "\n",
    "for i, (alpha, lambd) in enumerate(zip(tqdm(alpha_list_sim_L2), lambd_list_L2)):\n",
    "    all_gen_errors = np.empty((repetitions,))\n",
    "    for idx in range(repetitions):\n",
    "        xs, ys, xs_test, ys_test, ground_truth_theta = dg.data_generation(\n",
    "            dg.measure_gen_decorrelated,\n",
    "            n_features=d,\n",
    "            n_samples=max(int(np.around(d * alpha)), 1),\n",
    "            n_generalization=d,\n",
    "            measure_fun_args=(delta_in, delta_out, percentage, beta),\n",
    "        )\n",
    "\n",
    "        estimated_theta = erm.find_coefficients_L2(ys, xs, lambd)\n",
    "\n",
    "        all_gen_errors[idx] = np.mean((ground_truth_theta - estimated_theta) ** 2)\n",
    "\n",
    "        del xs, ys, xs_test, ys_test, ground_truth_theta, estimated_theta\n",
    "\n",
    "    L2_estim_error_sim_mean[i], L2_estim_error_sim_std[i] = np.mean(all_gen_errors), np.std(all_gen_errors) / np.sqrt(\n",
    "        repetitions\n",
    "    )\n",
    "\n",
    "print(alpha_list_sim_L2, L2_estim_error_sim_mean)\n",
    "print(\"L2 sim done\")"
   ]
  },
  {
   "cell_type": "code",
   "execution_count": 21,
   "metadata": {},
   "outputs": [
    {
     "data": {
      "application/vnd.jupyter.widget-view+json": {
       "model_id": "a53489157257470680c7f9b097037150",
       "version_major": 2,
       "version_minor": 0
      },
      "text/plain": [
       "  0%|          | 0/6 [00:00<?, ?it/s]"
      ]
     },
     "metadata": {},
     "output_type": "display_data"
    },
    {
     "name": "stdout",
     "output_type": "stream",
     "text": [
      "Huber sim done.\n"
     ]
    }
   ],
   "source": [
    "alpha_list_sim_Hub = alphas_Hub[::skip][1:-end]\n",
    "a_list_Hub = hub_params_opt_Hub[::skip][1:-end]\n",
    "lambd_list_Hub = reg_param_opt_Hub[::skip][1:-end]\n",
    "\n",
    "Huber_estim_error_sim_mean = np.zeros(len(alpha_list_sim_Hub))\n",
    "Huber_estim_error_sim_std = np.zeros(len(alpha_list_sim_Hub))\n",
    "\n",
    "\n",
    "for i, (alpha, lambd, a) in enumerate(zip(tqdm(alpha_list_sim_Hub), lambd_list_Hub, a_list_Hub)):\n",
    "    all_gen_errors = np.empty((repetitions,))\n",
    "    for idx in range(repetitions):\n",
    "        xs, ys, xs_test, ys_test, ground_truth_theta = dg.data_generation(\n",
    "            dg.measure_gen_decorrelated,\n",
    "            n_features=d,\n",
    "            n_samples=max(int(np.around(d * alpha)), 1),\n",
    "            n_generalization=d,\n",
    "            measure_fun_args=(delta_in, delta_out, percentage, beta),\n",
    "        )\n",
    "\n",
    "        estimated_theta = erm.find_coefficients_Huber(ys, xs, lambd, a)\n",
    "\n",
    "        all_gen_errors[idx] = np.mean((ground_truth_theta - estimated_theta) ** 2)\n",
    "\n",
    "        del xs, ys, xs_test, ys_test, ground_truth_theta, estimated_theta\n",
    "\n",
    "    Huber_estim_error_sim_mean[i], Huber_estim_error_sim_std[i] = np.mean(all_gen_errors), np.std(all_gen_errors) / np.sqrt(\n",
    "        repetitions\n",
    "    )\n",
    "\n",
    "print(\"Huber sim done.\")"
   ]
  },
  {
   "cell_type": "code",
   "execution_count": 23,
   "metadata": {},
   "outputs": [
    {
     "data": {
      "application/vnd.jupyter.widget-view+json": {
       "model_id": "329ee13b2b0d4768817d833ea65b045e",
       "version_major": 2,
       "version_minor": 0
      },
      "text/plain": [
       "  0%|          | 0/6 [00:00<?, ?it/s]"
      ]
     },
     "metadata": {},
     "output_type": "display_data"
    },
    {
     "name": "stdout",
     "output_type": "stream",
     "text": [
      "L1 sim done.\n"
     ]
    }
   ],
   "source": [
    "alpha_list_sim_L1 = alphas_L1[::skip][1:-end]\n",
    "lambd_list_L1 = reg_param_opt_L1[::skip][1:-end]\n",
    "\n",
    "a_val_L1 = 1e-3\n",
    "lambd_list_L1 *= a_val_L1\n",
    "\n",
    "L1_estim_error_sim_mean = np.zeros(len(alpha_list_sim_L1))\n",
    "L1_estim_error_sim_std = np.zeros(len(alpha_list_sim_L1))\n",
    "\n",
    "for i, (alpha, lambd) in enumerate(zip(tqdm(alpha_list_sim_L1), lambd_list_L1)):\n",
    "    all_gen_errors = np.empty((repetitions,))\n",
    "    for idx in range(repetitions):\n",
    "        xs, ys, xs_test, ys_test, ground_truth_theta = dg.data_generation(\n",
    "            dg.measure_gen_decorrelated,\n",
    "            n_features=d,\n",
    "            n_samples=max(int(np.around(d * alpha)), 1),\n",
    "            n_generalization=d,\n",
    "            measure_fun_args=(delta_in, delta_out, percentage, beta),\n",
    "        )\n",
    "\n",
    "        estimated_theta = erm.find_coefficients_Huber(ys, xs, lambd, a_val_L1)\n",
    "\n",
    "        all_gen_errors[idx] = np.mean((ground_truth_theta - estimated_theta) ** 2)\n",
    "\n",
    "        del xs, ys, xs_test, ys_test, ground_truth_theta, estimated_theta\n",
    "\n",
    "    L1_estim_error_sim_mean[i], L1_estim_error_sim_std[i] = np.mean(all_gen_errors), np.std(all_gen_errors) / np.sqrt(\n",
    "        repetitions\n",
    "    )\n",
    "\n",
    "print(\"L1 sim done.\")"
   ]
  },
  {
   "cell_type": "code",
   "execution_count": 26,
   "metadata": {},
   "outputs": [
    {
     "data": {
      "application/vnd.jupyter.widget-view+json": {
       "model_id": "533c3f3af3484826aefd1e089afd7052",
       "version_major": 2,
       "version_minor": 0
      },
      "text/plain": [
       "  0%|          | 0/23 [00:00<?, ?it/s]"
      ]
     },
     "metadata": {},
     "output_type": "display_data"
    },
    {
     "name": "stdout",
     "output_type": "stream",
     "text": [
      "GAMP sim done.\n"
     ]
    }
   ],
   "source": [
    "alphas = np.array(\n",
    "    [\n",
    "        1.34977233e-01,\n",
    "        1.82188534e-01,\n",
    "        2.45913043e-01,\n",
    "        3.31926620e-01,\n",
    "        4.48025368e-01,\n",
    "        6.04732245e-01,\n",
    "        8.16250851e-01,\n",
    "        1.10175281e00,\n",
    "        1.48711546e00,\n",
    "        2.00726730e00,\n",
    "        2.70935387e00,\n",
    "        3.65701088e00,\n",
    "        4.93613210e00,\n",
    "        6.66265452e00,\n",
    "        8.99306672e00,\n",
    "        1.21385926e01,\n",
    "        1.63843365e01,\n",
    "        2.21151240e01,\n",
    "        2.98503825e01,\n",
    "        4.02912203e01,\n",
    "        5.43839743e01,\n",
    "        7.34059837e01,\n",
    "        9.90813657e01\n",
    "    ]\n",
    ")\n",
    "\n",
    "means_estim_error = []\n",
    "stds_estim_error = []\n",
    "\n",
    "alphas_2 = []\n",
    "\n",
    "for idx, alpha in enumerate(tqdm(alphas)):\n",
    "    all_gen_errors = []\n",
    "    all_estim_errors = []\n",
    "\n",
    "    for idx in range(repetitions):\n",
    "        try:\n",
    "            xs, ys, xs_test, ys_test, ground_truth_theta = dg.data_generation(\n",
    "                dg.measure_gen_decorrelated,\n",
    "                n_features=d,\n",
    "                n_samples=max(int(np.around(d * alpha)), 1),\n",
    "                n_generalization=2 * d,\n",
    "                measure_fun_args=(delta_in, delta_out, percentage, beta),\n",
    "            )\n",
    "\n",
    "            estimated_theta, _ = amp.GAMP_unsimplified_iters(\n",
    "                priors.f_w_Bayes_gaussian_prior,\n",
    "                priors.Df_w_Bayes_gaussian_prior,\n",
    "                like.f_out_Bayes_decorrelated_noise,\n",
    "                like.Df_out_Bayes_decorrelated_noise,\n",
    "                ys,\n",
    "                xs,\n",
    "                (0.0, 1.0),\n",
    "                (delta_in, delta_out, percentage, beta),\n",
    "                np.random.normal(size=d),\n",
    "                1.0,\n",
    "                max_iter=10_000,\n",
    "                blend=0.85,\n",
    "            )\n",
    "\n",
    "            all_gen_errors.append(\n",
    "                np.mean((ys_test - (1 - percentage + percentage * beta) * xs_test @ estimated_theta / np.sqrt(d)) ** 2)\n",
    "                - np.mean(\n",
    "                    (ys_test - (1 - percentage + percentage * beta) * xs_test @ ground_truth_theta / np.sqrt(d)) ** 2\n",
    "                )\n",
    "            )\n",
    "\n",
    "            all_estim_errors.append(np.mean(np.square(estimated_theta - ground_truth_theta)))\n",
    "\n",
    "            del xs, ys, xs_test, ys_test, ground_truth_theta, estimated_theta\n",
    "\n",
    "        except ConvergenceError:\n",
    "            continue\n",
    "\n",
    "    means_estim_error.append(np.mean(all_estim_errors))\n",
    "    stds_estim_error.append(np.std(all_estim_errors) / np.sqrt(repetitions))\n",
    "\n",
    "    alphas_2.append(alpha)\n",
    "print(\"GAMP sim done.\")"
   ]
  },
  {
   "attachments": {},
   "cell_type": "markdown",
   "metadata": {},
   "source": [
    "## Plotting"
   ]
  },
  {
   "cell_type": "code",
   "execution_count": 27,
   "metadata": {},
   "outputs": [
    {
     "data": {
      "image/png": "[encoded data removed]",
      "text/plain": [
       "<Figure size 700x700 with 1 Axes>"
      ]
     },
     "metadata": {},
     "output_type": "display_data"
    }
   ],
   "source": [
    "plt.figure(figsize=(7, 7))\n",
    "\n",
    "plt.title(\n",
    "    \"$\\\\alpha$ sweep, $\\\\Delta_{{in}} = {}$, $\\\\Delta_{{out}} = {}$, $\\\\epsilon = {}$, $\\\\beta = {}$\".format(\n",
    "        delta_in, delta_out, percentage, beta\n",
    "    )\n",
    ")\n",
    "\n",
    "plt.plot(alphas_L2, f_min_vals_L2, label=\"L2\", color=\"tab:blue\")\n",
    "plt.errorbar(\n",
    "    alpha_list_sim_L2,\n",
    "    L2_estim_error_sim_mean,\n",
    "    yerr=L2_estim_error_sim_std,\n",
    "    label=\"L2 sim\",\n",
    "    color=\"tab:blue\",\n",
    "    linestyle=None,\n",
    "    marker=\".\",\n",
    ")\n",
    "plt.plot(alphas_L1, f_min_vals_L1, label=\"L1\", color=\"tab:green\")\n",
    "plt.errorbar(\n",
    "    alpha_list_sim_L1,\n",
    "    L1_estim_error_sim_mean,\n",
    "    yerr=L1_estim_error_sim_std,\n",
    "    label=\"L1 sim\",\n",
    "    color=\"tab:green\",\n",
    "    linestyle=None,\n",
    "    marker=\".\",\n",
    ")\n",
    "plt.plot(alphas_Hub, f_min_vals_Hub, label=\"Huber\", color=\"tab:orange\")\n",
    "plt.errorbar(\n",
    "    alpha_list_sim_Hub,\n",
    "    Huber_estim_error_sim_mean,\n",
    "    yerr=Huber_estim_error_sim_std,\n",
    "    label=\"Huber sim\",\n",
    "    color=\"tab:orange\",\n",
    "    linestyle=None,\n",
    "    marker=\".\",\n",
    ")\n",
    "plt.plot(alphas_BO, gen_error_BO_old, label=\"BO\", color=\"tab:red\")\n",
    "plt.errorbar(\n",
    "    alphas_2,\n",
    "    means_estim_error,\n",
    "    yerr=stds_estim_error,\n",
    "    label=\"GAMP sim\",\n",
    "    color=\"tab:red\",\n",
    "    linestyle=None,\n",
    "    marker=\".\",\n",
    ")\n",
    "\n",
    "plt.ylim(1e-2, 1e0)\n",
    "plt.yscale(\"log\")\n",
    "plt.xscale(\"log\")\n",
    "plt.ylabel(r\"$E_{estim}$\")\n",
    "plt.legend()\n",
    "plt.grid()\n",
    "\n",
    "plt.show()"
   ]
  },
  {
   "cell_type": "code",
   "execution_count": null,
   "metadata": {},
   "outputs": [],
   "source": []
  }
 ],
 "metadata": {
  "kernelspec": {
   "display_name": "rrenv",
   "language": "python",
   "name": "python3"
  },
  "language_info": {
   "codemirror_mode": {
    "name": "ipython",
    "version": 3
   },
   "file_extension": ".py",
   "mimetype": "text/x-python",
   "name": "python",
   "nbconvert_exporter": "python",
   "pygments_lexer": "ipython3",
   "version": "3.10.11"
  },
  "orig_nbformat": 4
 },
 "nbformat": 4,
 "nbformat_minor": 2
}
