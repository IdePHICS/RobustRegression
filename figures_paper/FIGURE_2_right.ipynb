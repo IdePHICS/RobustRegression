{
 "cells": [
  {
   "cell_type": "code",
   "execution_count": 1,
   "metadata": {},
   "outputs": [],
   "source": [
    "import robust_regression.sweeps.delta_out_sweep as dosw\n",
    "import matplotlib.pyplot as plt\n",
    "from robust_regression.fixed_point_equations.fpe_L2_loss import (\n",
    "    var_hat_func_L2_decorrelated_noise,\n",
    ")\n",
    "from robust_regression.fixed_point_equations.fpe_L1_loss import (\n",
    "    var_hat_func_L1_decorrelated_noise,\n",
    ")\n",
    "from robust_regression.fixed_point_equations.fpe_Huber_loss import (\n",
    "    var_hat_func_Huber_decorrelated_noise,\n",
    ")\n",
    "import robust_regression.regression_numerics.data_generation as dg\n",
    "import robust_regression.aux_functions.prior_regularization_funcs as priors\n",
    "import robust_regression.aux_functions.likelihood_channel_functions as like\n",
    "import robust_regression.regression_numerics.amp_funcs as amp\n",
    "import robust_regression.regression_numerics.erm_solvers as erm\n",
    "from robust_regression.utils.errors import ConvergenceError\n",
    "from tqdm.auto import tqdm\n",
    "from robust_regression.fixed_point_equations.fpe_BO import var_func_BO, var_hat_func_BO_num_decorrelated_noise\n",
    "from robust_regression.fixed_point_equations.fpe_L2_regularization import var_func_L2\n",
    "import numpy as np\n",
    "from robust_regression.aux_functions.misc import excess_gen_error, gen_error_BO"
   ]
  },
  {
   "cell_type": "code",
   "execution_count": 2,
   "metadata": {},
   "outputs": [],
   "source": [
    "def sigma_order_param(m, q, sigma):\n",
    "    return sigma\n",
    "\n",
    "\n",
    "def q_order_param(m, q, sigma):\n",
    "    return q\n",
    "\n",
    "\n",
    "def m_order_param(m, q, sigma):\n",
    "    return m"
   ]
  },
  {
   "attachments": {},
   "cell_type": "markdown",
   "metadata": {},
   "source": [
    "## Theory Simulations"
   ]
  },
  {
   "cell_type": "code",
   "execution_count": 3,
   "metadata": {},
   "outputs": [],
   "source": [
    "alpha, delta_in, percentage, beta = 10.0, 1.0, 0.3, 0.0\n",
    "delta_out_min, delta_out_max, n_delta_out_pts = 0.1, 100, 250"
   ]
  },
  {
   "cell_type": "code",
   "execution_count": 4,
   "metadata": {},
   "outputs": [
    {
     "name": "stdout",
     "output_type": "stream",
     "text": [
      "L2 done\n",
      "L1 done\n",
      "Huber done\n",
      "BO done\n"
     ]
    }
   ],
   "source": [
    "initial_condition = (0.1, 0.3, 0.9)\n",
    "\n",
    "delta_outs_l2, e_gen_l2, reg_params_opt_l2, (ms_l2, qs_l2, sigmas_l2) = dosw.sweep_delta_out_optimal_lambda_fixed_point(\n",
    "    var_func_L2,\n",
    "    var_hat_func_L2_decorrelated_noise,\n",
    "    delta_out_min,\n",
    "    delta_out_max,\n",
    "    n_delta_out_pts,\n",
    "    0.1,\n",
    "    {\"reg_param\": 3.0},\n",
    "    {\n",
    "        \"alpha\": alpha,\n",
    "        \"delta_in\": delta_in,\n",
    "        \"delta_out\": delta_out_max,\n",
    "        \"percentage\": percentage,\n",
    "        \"beta\": beta,\n",
    "    },\n",
    "    initial_cond_fpe=initial_condition,\n",
    "    f_min=excess_gen_error,\n",
    "    f_min_args={\"delta_in\": delta_in, \"delta_out\": 10.0, \"percentage\": percentage, \"beta\": beta},\n",
    "    update_f_min_args=True,\n",
    "    funs=[m_order_param, q_order_param, sigma_order_param],\n",
    "    funs_args=[{}, {}, {}],\n",
    "    decreasing=True,\n",
    ")\n",
    "\n",
    "print(\"L2 done\")\n",
    "\n",
    "delta_outs_l1, e_gen_l1, reg_params_opt_l1, (ms_l1, qs_l1, sigmas_l1) = dosw.sweep_delta_out_optimal_lambda_fixed_point(\n",
    "    var_func_L2,\n",
    "    var_hat_func_L1_decorrelated_noise,\n",
    "    delta_out_min,\n",
    "    delta_out_max,\n",
    "    n_delta_out_pts,\n",
    "    0.5,\n",
    "    {\"reg_param\": 3.0},\n",
    "    {\n",
    "        \"alpha\": alpha,\n",
    "        \"delta_in\": delta_in,\n",
    "        \"delta_out\": delta_out_max,\n",
    "        \"percentage\": percentage,\n",
    "        \"beta\": beta,\n",
    "    },\n",
    "    initial_cond_fpe=initial_condition,\n",
    "    f_min=excess_gen_error,\n",
    "    f_min_args={\"delta_in\": delta_in, \"delta_out\": 10.0, \"percentage\": percentage, \"beta\": beta},\n",
    "    update_f_min_args=True,\n",
    "    funs=[m_order_param, q_order_param, sigma_order_param],\n",
    "    funs_args=[{}, {}, {}],\n",
    "    decreasing=True,\n",
    ")\n",
    "\n",
    "print(\"L1 done\")\n",
    "\n",
    "(\n",
    "    delta_outs_hub,\n",
    "    e_gen_hub,\n",
    "    (reg_params_opt_hub, hub_params_opt),\n",
    "    (ms_hub, qs_hub, sigmas_hub),\n",
    ") = dosw.sweep_delta_out_optimal_lambda_hub_param_fixed_point(\n",
    "    var_func_L2,\n",
    "    var_hat_func_Huber_decorrelated_noise,\n",
    "    delta_out_min,\n",
    "    delta_out_max,\n",
    "    n_delta_out_pts,\n",
    "    [0.5, 1.0],\n",
    "    {\"reg_param\": 3.0},\n",
    "    {\n",
    "        \"alpha\": alpha,\n",
    "        \"delta_in\": delta_in,\n",
    "        \"delta_out\": delta_out_max,\n",
    "        \"percentage\": percentage,\n",
    "        \"beta\": beta,\n",
    "        \"a\": 1.0,\n",
    "    },\n",
    "    initial_cond_fpe=initial_condition,\n",
    "    f_min=excess_gen_error,\n",
    "    f_min_args={\"delta_in\": delta_in, \"delta_out\": 10.0, \"percentage\": percentage, \"beta\": beta},\n",
    "    update_f_min_args=True,\n",
    "    funs=[m_order_param, q_order_param, sigma_order_param],\n",
    "    funs_args=[{}, {}, {}],\n",
    "    decreasing=True,\n",
    ")\n",
    "\n",
    "print(\"Huber done\")\n",
    "\n",
    "delta_outs_BO, (gen_error_BO_old, qs_BO) = dosw.sweep_delta_out_fixed_point(\n",
    "    var_func_BO,\n",
    "    var_hat_func_BO_num_decorrelated_noise,\n",
    "    delta_out_min,\n",
    "    delta_out_max,\n",
    "    20,\n",
    "    {\"reg_param\": 3.0},\n",
    "    {\"alpha\": alpha, \"delta_in\": delta_in, \"delta_out\": 10.0, \"percentage\": percentage, \"beta\": beta},\n",
    "    initial_cond=(0.6, 0.01, 0.9),\n",
    "    funs=[gen_error_BO, q_order_param],\n",
    "    funs_args=[{\"delta_in\": delta_in, \"delta_out\": 10.0, \"percentage\": percentage, \"beta\": beta}, {}],\n",
    "    update_funs_args=[True, False],\n",
    "    decreasing=True,\n",
    ")\n",
    "\n",
    "print(\"BO done\")"
   ]
  },
  {
   "attachments": {},
   "cell_type": "markdown",
   "metadata": {},
   "source": [
    "## Numerical Experiments"
   ]
  },
  {
   "cell_type": "code",
   "execution_count": 5,
   "metadata": {},
   "outputs": [
    {
     "name": "stdout",
     "output_type": "stream",
     "text": [
      "epsilons expample\n",
      " [  0.1          0.14342554   0.20570887   0.29503906   0.42316138\n",
      "   0.60692151   0.87048048   1.24849136   1.79065553   2.56825744\n",
      "   3.78715651   5.43174982   7.79051674  11.17359102  16.02578371\n",
      "  22.98506748  32.96645809  47.28232188  67.81492741 100.        ]\n"
     ]
    }
   ],
   "source": [
    "d = 300\n",
    "repetitions = 50\n",
    "\n",
    "idxs_chosen = np.linspace(0, n_delta_out_pts-1, 20, dtype=int)\n",
    "\n",
    "print(\"epsilons expample\\n\", delta_outs_l2[idxs_chosen])"
   ]
  },
  {
   "cell_type": "code",
   "execution_count": 6,
   "metadata": {},
   "outputs": [
    {
     "data": {
      "application/vnd.jupyter.widget-view+json": {
       "model_id": "ae63507b5d4a4ceaaf53f6e5ca2c4209",
       "version_major": 2,
       "version_minor": 0
      },
      "text/plain": [
       "  0%|          | 0/20 [00:00<?, ?it/s]"
      ]
     },
     "metadata": {},
     "output_type": "display_data"
    },
    {
     "name": "stdout",
     "output_type": "stream",
     "text": [
      "L2 sim done\n"
     ]
    }
   ],
   "source": [
    "delta_out_list_sim_L2 = delta_outs_l2[idxs_chosen]\n",
    "lambd_list_L2 = reg_params_opt_l2[idxs_chosen]\n",
    "\n",
    "L2_gen_error_sim_mean = np.zeros(len(delta_out_list_sim_L2))\n",
    "L2_gen_error_sim_std = np.zeros(len(delta_out_list_sim_L2))\n",
    "\n",
    "for i, (dout, lambd) in enumerate(zip(tqdm(delta_out_list_sim_L2), lambd_list_L2)):\n",
    "    all_gen_errors = np.empty((repetitions,))\n",
    "    for idx in range(repetitions):\n",
    "        xs, ys, xs_test, ys_test, ground_truth_theta = dg.data_generation(\n",
    "            dg.measure_gen_decorrelated,\n",
    "            n_features=d,\n",
    "            n_samples=max(int(np.around(d * alpha)), 1),\n",
    "            n_generalization=d,\n",
    "            measure_fun_args=(delta_in, dout, percentage, beta),\n",
    "        )\n",
    "\n",
    "        estimated_theta = erm.find_coefficients_L2(ys, xs, lambd)\n",
    "\n",
    "        all_gen_errors[idx] = np.mean((ys_test - xs_test @ estimated_theta / np.sqrt(d)) ** 2) - np.mean(\n",
    "            (ys_test - (1 - percentage + percentage * beta) * xs_test @ ground_truth_theta / np.sqrt(d)) ** 2\n",
    "        )\n",
    "\n",
    "        del xs, ys, xs_test, ys_test, ground_truth_theta, estimated_theta\n",
    "\n",
    "    L2_gen_error_sim_mean[i], L2_gen_error_sim_std[i] = np.mean(all_gen_errors), np.std(all_gen_errors) / np.sqrt(\n",
    "        repetitions\n",
    "    )\n",
    "\n",
    "print(\"L2 sim done\")"
   ]
  },
  {
   "cell_type": "code",
   "execution_count": 7,
   "metadata": {},
   "outputs": [
    {
     "data": {
      "application/vnd.jupyter.widget-view+json": {
       "model_id": "1f74b53ab8d34af894c55ce5fcd34c3c",
       "version_major": 2,
       "version_minor": 0
      },
      "text/plain": [
       "  0%|          | 0/20 [00:00<?, ?it/s]"
      ]
     },
     "metadata": {},
     "output_type": "display_data"
    },
    {
     "name": "stdout",
     "output_type": "stream",
     "text": [
      "Huber sim done.\n"
     ]
    }
   ],
   "source": [
    "delta_out_list_sim_Hub = delta_outs_hub[idxs_chosen]\n",
    "a_list_Hub = hub_params_opt[idxs_chosen]\n",
    "lambd_list_Hub = reg_params_opt_hub[idxs_chosen]\n",
    "\n",
    "Huber_gen_error_sim_mean = np.zeros(len(delta_out_list_sim_Hub))\n",
    "Huber_gen_error_sim_std = np.zeros(len(delta_out_list_sim_Hub))\n",
    "\n",
    "\n",
    "for i, (dout, lambd, a) in enumerate(zip(tqdm(delta_out_list_sim_Hub), lambd_list_Hub, a_list_Hub)):\n",
    "    all_gen_errors = np.empty((repetitions,))\n",
    "    for idx in range(repetitions):\n",
    "        xs, ys, xs_test, ys_test, ground_truth_theta = dg.data_generation(\n",
    "            dg.measure_gen_decorrelated,\n",
    "            n_features=d,\n",
    "            n_samples=max(int(np.around(d * alpha)), 1),\n",
    "            n_generalization=d,\n",
    "            measure_fun_args=(delta_in, dout, percentage, beta),\n",
    "        )\n",
    "\n",
    "        estimated_theta = erm.find_coefficients_Huber(ys, xs, lambd, a)\n",
    "\n",
    "        all_gen_errors[idx] = np.mean((ys_test - xs_test @ estimated_theta / np.sqrt(d)) ** 2) - np.mean(\n",
    "            (ys_test - (1 - percentage + percentage * beta) * xs_test @ ground_truth_theta / np.sqrt(d)) ** 2\n",
    "        )\n",
    "\n",
    "        del xs, ys, xs_test, ys_test, ground_truth_theta, estimated_theta\n",
    "\n",
    "    Huber_gen_error_sim_mean[i], Huber_gen_error_sim_std[i] = np.mean(all_gen_errors), np.std(all_gen_errors) / np.sqrt(\n",
    "        repetitions\n",
    "    )\n",
    "\n",
    "print(\"Huber sim done.\")"
   ]
  },
  {
   "cell_type": "code",
   "execution_count": 11,
   "metadata": {},
   "outputs": [
    {
     "data": {
      "application/vnd.jupyter.widget-view+json": {
       "model_id": "176be973cccd4b648a7f0573a370ec19",
       "version_major": 2,
       "version_minor": 0
      },
      "text/plain": [
       "  0%|          | 0/20 [00:00<?, ?it/s]"
      ]
     },
     "metadata": {},
     "output_type": "display_data"
    },
    {
     "name": "stdout",
     "output_type": "stream",
     "text": [
      "L1 sim done.\n"
     ]
    }
   ],
   "source": [
    "delta_out_list_sim_L1 = delta_outs_l1[idxs_chosen]\n",
    "lambd_list_L1 = reg_params_opt_l1[idxs_chosen]\n",
    "\n",
    "a_val_L1 = 1e-3\n",
    "lambd_list_L1 *= a_val_L1\n",
    "\n",
    "L1_gen_error_sim_mean = np.zeros(len(delta_out_list_sim_L1))\n",
    "L1_gen_error_sim_std = np.zeros(len(delta_out_list_sim_L1))\n",
    "\n",
    "for i, (dout, lambd) in enumerate(zip(tqdm(delta_out_list_sim_L1), lambd_list_L1)):\n",
    "    all_gen_errors = np.empty((repetitions,))\n",
    "    for idx in range(repetitions):\n",
    "        xs, ys, xs_test, ys_test, ground_truth_theta = dg.data_generation(\n",
    "            dg.measure_gen_decorrelated,\n",
    "            n_features=d,\n",
    "            n_samples=max(int(np.around(d * alpha)), 1),\n",
    "            n_generalization=d,\n",
    "            measure_fun_args=(delta_in, dout, percentage, beta),\n",
    "        )\n",
    "\n",
    "        estimated_theta = erm.find_coefficients_Huber(ys, xs, lambd, a_val_L1)\n",
    "\n",
    "        all_gen_errors[idx] = np.mean((ys_test - xs_test @ estimated_theta / np.sqrt(d)) ** 2) - np.mean(\n",
    "            (ys_test - (1 - percentage + percentage * beta) * xs_test @ ground_truth_theta / np.sqrt(d)) ** 2\n",
    "        )\n",
    "\n",
    "        del xs, ys, xs_test, ys_test, ground_truth_theta, estimated_theta\n",
    "\n",
    "    L1_gen_error_sim_mean[i], L1_gen_error_sim_std[i] = np.mean(all_gen_errors), np.std(all_gen_errors) / np.sqrt(\n",
    "        repetitions\n",
    "    )\n",
    "\n",
    "print(\"L1 sim done.\")"
   ]
  },
  {
   "cell_type": "code",
   "execution_count": null,
   "metadata": {},
   "outputs": [],
   "source": [
    "delta_out_list = np.linspace(delta_out_min, delta_out_max, n_delta_out_pts)\n",
    "\n",
    "delta_out_list_sim = delta_out_list[idxs_chosen]\n",
    "\n",
    "means_gen_error = []\n",
    "stds_gen_error = [] \n",
    "\n",
    "dout_2 = []\n",
    "\n",
    "for idx, dout in enumerate(tqdm(delta_out_list_sim)):\n",
    "    all_gen_errors = []\n",
    "    all_estim_errors = []\n",
    "\n",
    "    for _ in range(repetitions):\n",
    "        try:\n",
    "            xs, ys, xs_test, ys_test, ground_truth_theta = dg.data_generation(\n",
    "                dg.measure_gen_decorrelated,\n",
    "                n_features=d,\n",
    "                n_samples=max(int(np.around(d * alpha)), 1),\n",
    "                n_generalization=2 * d,\n",
    "                measure_fun_args=(delta_in, dout, percentage, beta),\n",
    "            )\n",
    "\n",
    "            estimated_theta, _ = amp.GAMP_unsimplified_iters(\n",
    "                priors.f_w_Bayes_gaussian_prior,\n",
    "                priors.Df_w_Bayes_gaussian_prior,\n",
    "                like.f_out_Bayes_decorrelated_noise,\n",
    "                like.Df_out_Bayes_decorrelated_noise,\n",
    "                ys,\n",
    "                xs,\n",
    "                (0.0, 1.0),\n",
    "                (delta_in, dout, percentage, beta),\n",
    "                np.random.normal(size=d),\n",
    "                1.0,\n",
    "                max_iter=10_000,\n",
    "                blend=0.85,\n",
    "                abs_tol=1e-3\n",
    "            )\n",
    "\n",
    "            all_gen_errors.append(\n",
    "                np.mean((ys_test - (1 - percentage + percentage * beta) * xs_test @ estimated_theta / np.sqrt(d)) ** 2)\n",
    "                - np.mean(\n",
    "                    (ys_test - (1 - percentage + percentage * beta) * xs_test @ ground_truth_theta / np.sqrt(d)) ** 2\n",
    "                )\n",
    "            )\n",
    "\n",
    "            all_estim_errors.append(np.mean(np.square(estimated_theta - ground_truth_theta)))\n",
    "\n",
    "            del xs, ys, xs_test, ys_test, ground_truth_theta, estimated_theta\n",
    "\n",
    "        except ConvergenceError:\n",
    "            continue\n",
    "\n",
    "    means_gen_error.append(np.mean(all_gen_errors))\n",
    "    stds_gen_error.append(np.std(all_gen_errors) / np.sqrt(repetitions))\n",
    "\n",
    "    dout_2.append(percentage)\n",
    "\n",
    "print(\"GAMP done.\")"
   ]
  },
  {
   "attachments": {},
   "cell_type": "markdown",
   "metadata": {},
   "source": [
    "## Plotting"
   ]
  },
  {
   "cell_type": "code",
   "execution_count": 8,
   "metadata": {},
   "outputs": [
    {
     "data": {
      "image/png": "[encoded data removed]",
      "text/plain": [
       "<Figure size 700x700 with 2 Axes>"
      ]
     },
     "metadata": {},
     "output_type": "display_data"
    }
   ],
   "source": [
    "plt.figure(figsize=(7, 7))\n",
    "\n",
    "plt.subplot(211)\n",
    "plt.title(\n",
    "    r\"$\\alpha = {}$, $\\beta = {}$, $\\epsilon = {}$, $\\Delta_{{in}} = {}$\".format(alpha, beta, percentage, delta_in)\n",
    ")\n",
    "plt.plot(delta_outs_l2, e_gen_l2, label=\"L2\")\n",
    "plt.errorbar(\n",
    "    delta_out_list_sim_L2,\n",
    "    L2_gen_error_sim_mean,\n",
    "    yerr=L2_gen_error_sim_std,\n",
    "    label=\"L2 sim\",\n",
    "    linestyle=None,\n",
    "    marker=\".\",\n",
    ")\n",
    "plt.plot(delta_outs_l1, e_gen_l1, label=\"L1\")\n",
    "plt.errorbar(\n",
    "    delta_out_list_sim_L1,\n",
    "    L1_gen_error_sim_mean,\n",
    "    yerr=L1_gen_error_sim_std,\n",
    "    label=\"L1 sim\",\n",
    "    linestyle=None,\n",
    "    marker=\".\",\n",
    ")\n",
    "plt.plot(delta_outs_hub, e_gen_hub, label=\"Huber\")\n",
    "plt.errorbar(\n",
    "    delta_out_list_sim_Hub,\n",
    "    Huber_gen_error_sim_mean,\n",
    "    yerr=Huber_gen_error_sim_std,\n",
    "    label=\"Huber sim\",\n",
    "    linestyle=None,\n",
    "    marker=\".\",\n",
    ")\n",
    "plt.plot(delta_outs_BO, gen_error_BO_old, label=\"BO\")\n",
    "plt.errorbar(\n",
    "    dout_2,\n",
    "    means_gen_error,\n",
    "    yerr=stds_gen_error,\n",
    "    label=\"GAMP sim\",\n",
    "    linestyle=None,\n",
    "    marker=\".\",\n",
    ")\n",
    "\n",
    "plt.xlabel(r\"$\\Delta_{out}$\")\n",
    "plt.ylabel(r\"$E_{gen}$\")\n",
    "plt.xscale(\"log\")\n",
    "plt.yscale(\"log\")\n",
    "plt.legend()\n",
    "plt.grid()\n",
    "\n",
    "plt.subplot(212)\n",
    "plt.plot(delta_outs_l2, reg_params_opt_l2, label=\"L2\")\n",
    "plt.plot(delta_outs_l1, reg_params_opt_l1, label=\"L1\")\n",
    "plt.plot(delta_outs_hub, reg_params_opt_hub, label=\"Huber lambda\")\n",
    "plt.plot(delta_outs_hub, hub_params_opt, label=\"Huber a\")\n",
    "\n",
    "plt.ylim([-1, 6])\n",
    "plt.xlabel(r\"$\\Delta_{out}$\")\n",
    "plt.ylabel(r\"$\\lambda_{opt}$\")\n",
    "plt.xscale(\"log\")\n",
    "plt.legend()\n",
    "plt.grid()\n",
    "\n",
    "plt.show()"
   ]
  },
  {
   "cell_type": "code",
   "execution_count": null,
   "metadata": {},
   "outputs": [],
   "source": []
  }
 ],
 "metadata": {
  "kernelspec": {
   "display_name": "rrenv",
   "language": "python",
   "name": "python3"
  },
  "language_info": {
   "codemirror_mode": {
    "name": "ipython",
    "version": 3
   },
   "file_extension": ".py",
   "mimetype": "text/x-python",
   "name": "python",
   "nbconvert_exporter": "python",
   "pygments_lexer": "ipython3",
   "version": "3.10.11"
  },
  "orig_nbformat": 4
 },
 "nbformat": 4,
 "nbformat_minor": 2
}
