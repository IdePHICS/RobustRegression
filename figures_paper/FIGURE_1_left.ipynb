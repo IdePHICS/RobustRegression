{
 "cells": [
  {
   "cell_type": "code",
   "execution_count": 1,
   "metadata": {},
   "outputs": [],
   "source": [
    "import robust_regression.sweeps.alpha_sweeps as alsw\n",
    "import matplotlib.pyplot as plt\n",
    "from robust_regression.fixed_point_equations.fpe_L2_loss import (\n",
    "    var_hat_func_L2_decorrelated_noise,\n",
    ")\n",
    "import robust_regression.regression_numerics.data_generation as dg\n",
    "import robust_regression.aux_functions.prior_regularization_funcs as priors\n",
    "import robust_regression.aux_functions.likelihood_channel_functions as like\n",
    "import robust_regression.regression_numerics.amp_funcs as amp\n",
    "import robust_regression.regression_numerics.erm_solvers as erm\n",
    "from robust_regression.utils.errors import ConvergenceError\n",
    "from robust_regression.fixed_point_equations.fpe_BO import var_func_BO, var_hat_func_BO_num_decorrelated_noise\n",
    "from robust_regression.fixed_point_equations.fpe_L1_loss import (\n",
    "    var_hat_func_L1_decorrelated_noise,\n",
    ")\n",
    "from robust_regression.fixed_point_equations.fpe_Huber_loss import (\n",
    "    var_hat_func_Huber_decorrelated_noise,\n",
    ")\n",
    "from tqdm.auto import tqdm\n",
    "from robust_regression.fixed_point_equations.fpe_L2_regularization import var_func_L2\n",
    "from robust_regression.aux_functions.misc import excess_gen_error, gen_error_BO\n",
    "import numpy as np"
   ]
  },
  {
   "cell_type": "code",
   "execution_count": 2,
   "metadata": {},
   "outputs": [],
   "source": [
    "def sigma_order_param(m, q, sigma):\n",
    "    return sigma\n",
    "\n",
    "\n",
    "def q_order_param(m, q, sigma):\n",
    "    return q\n",
    "\n",
    "\n",
    "def m_order_param(m, q, sigma):\n",
    "    return m"
   ]
  },
  {
   "attachments": {},
   "cell_type": "markdown",
   "metadata": {},
   "source": [
    "## Theory Simulations"
   ]
  },
  {
   "cell_type": "code",
   "execution_count": 3,
   "metadata": {},
   "outputs": [],
   "source": [
    "delta_in, delta_out, percentage, beta = 1.0, 0.5, 0.6, 0.0\n",
    "alpha_min, alpha_max, n_alpha_pts = 0.1, 1000, 100\n",
    "n_alpha_pts_BO = 12\n",
    "\n",
    "delta_eff = (1 - percentage) * delta_in + percentage * delta_out\n",
    "plateau_alpha_inf = (1 - percentage) * percentage**2 * (1 - beta) ** 2 + percentage * (1 - percentage) ** 2 * (\n",
    "    beta - 1\n",
    ") ** 2\n",
    "a_hub_fixed = 1.0"
   ]
  },
  {
   "cell_type": "code",
   "execution_count": 4,
   "metadata": {},
   "outputs": [
    {
     "name": "stdout",
     "output_type": "stream",
     "text": [
      "L2 done\n",
      "L1 done\n",
      "Huber done\n",
      "Huber a fixed done\n",
      "BO done\n"
     ]
    }
   ],
   "source": [
    "(\n",
    "    alphas_L2,\n",
    "    f_min_vals_L2,\n",
    "    reg_param_opt_L2,\n",
    "    (sigmas_L2, qs_L2, ms_L2),\n",
    ") = alsw.sweep_alpha_optimal_lambda_fixed_point(\n",
    "    var_func_L2,\n",
    "    var_hat_func_L2_decorrelated_noise,\n",
    "    alpha_min,\n",
    "    alpha_max,\n",
    "    n_alpha_pts,\n",
    "    3.0,\n",
    "    {\"reg_param\": 3.0},\n",
    "    {\n",
    "        \"delta_in\": delta_in,\n",
    "        \"delta_out\": delta_out,\n",
    "        \"percentage\": percentage,\n",
    "        \"beta\": beta,\n",
    "    },\n",
    "    initial_cond_fpe=(0.6, 0.01, 0.9),\n",
    "    f_min=excess_gen_error,\n",
    "    f_min_args={\"delta_in\": delta_in, \"delta_out\": delta_out, \"percentage\": percentage, \"beta\": beta},\n",
    "    funs=[sigma_order_param, q_order_param, m_order_param],\n",
    "    funs_args=[{}, {}, {}],\n",
    "    min_reg_param=1e-5\n",
    ")\n",
    "\n",
    "print(\"L2 done\")\n",
    "\n",
    "(\n",
    "    alphas_L1,\n",
    "    f_min_vals_L1,\n",
    "    reg_param_opt_L1,\n",
    "    (sigmas_L1, qs_L1, ms_L1),\n",
    ") = alsw.sweep_alpha_optimal_lambda_fixed_point(\n",
    "    var_func_L2,\n",
    "    var_hat_func_L1_decorrelated_noise,\n",
    "    alpha_min,\n",
    "    alpha_max,\n",
    "    n_alpha_pts,\n",
    "    3.0,\n",
    "    {\"reg_param\": 3.0},\n",
    "    {\n",
    "        \"delta_in\": delta_in,\n",
    "        \"delta_out\": delta_out,\n",
    "        \"percentage\": percentage,\n",
    "        \"beta\": beta,\n",
    "    },\n",
    "    initial_cond_fpe=(0.6, 0.01, 0.9),\n",
    "    f_min=excess_gen_error,\n",
    "    f_min_args={\"delta_in\": delta_in, \"delta_out\": delta_out, \"percentage\": percentage, \"beta\": beta},\n",
    "    funs=[sigma_order_param, q_order_param, m_order_param],\n",
    "    funs_args=[{}, {}, {}],\n",
    "    min_reg_param=1e-5,\n",
    ")\n",
    "\n",
    "print(\"L1 done\")\n",
    "\n",
    "(\n",
    "    alphas_Hub,\n",
    "    f_min_vals_Hub,\n",
    "    (reg_param_opt_Hub, hub_params_opt_Hub),\n",
    "    (sigmas_Hub, qs_Hub, ms_Hub),\n",
    ") = alsw.sweep_alpha_optimal_lambda_hub_param_fixed_point(\n",
    "    var_func_L2,\n",
    "    var_hat_func_Huber_decorrelated_noise,\n",
    "    alpha_min,\n",
    "    alpha_max,\n",
    "    n_alpha_pts,\n",
    "    [3.0, 0.5],\n",
    "    {\"reg_param\": 3.0},\n",
    "    {\n",
    "        \"delta_in\": delta_in,\n",
    "        \"delta_out\": delta_out,\n",
    "        \"percentage\": percentage,\n",
    "        \"beta\": beta,\n",
    "        \"a\": 1.0,\n",
    "    },\n",
    "    initial_cond_fpe=(0.6, 0.01, 0.9),\n",
    "    f_min=excess_gen_error,\n",
    "    f_min_args={\"delta_in\": delta_in, \"delta_out\": delta_out, \"percentage\": percentage, \"beta\": beta},\n",
    "    funs=[sigma_order_param, q_order_param, m_order_param],\n",
    "    funs_args=[{}, {}, {}],\n",
    "    min_reg_param=1e-5,\n",
    ")\n",
    "\n",
    "print(\"Huber done\")\n",
    "\n",
    "(\n",
    "    alphas_Hub_2,\n",
    "    f_min_vals_Hub_2,\n",
    "    reg_param_opt_Hub_2,\n",
    "    (sigmas_Hub_2, qs_Hub_2, ms_Hub_2),\n",
    ") = alsw.sweep_alpha_optimal_lambda_fixed_point(\n",
    "    var_func_L2,\n",
    "    var_hat_func_Huber_decorrelated_noise,\n",
    "    alpha_min,\n",
    "    alpha_max,\n",
    "    n_alpha_pts,\n",
    "    3.0,\n",
    "    {\"reg_param\": 3.0},\n",
    "    {\n",
    "        \"delta_in\": delta_in,\n",
    "        \"delta_out\": delta_out,\n",
    "        \"percentage\": percentage,\n",
    "        \"beta\": beta,\n",
    "        \"a\": a_hub_fixed,\n",
    "    },\n",
    "    initial_cond_fpe=(0.6, 0.01, 0.9),\n",
    "    f_min=excess_gen_error,\n",
    "    f_min_args={\"delta_in\": delta_in, \"delta_out\": delta_out, \"percentage\": percentage, \"beta\": beta},\n",
    "    funs=[sigma_order_param, q_order_param, m_order_param],\n",
    "    funs_args=[{}, {}, {}],\n",
    "    min_reg_param=1e-5,\n",
    ")\n",
    "\n",
    "print(\"Huber a fixed done\")\n",
    "\n",
    "alphas_BO, (gen_error_BO_old, qs_BO) = alsw.sweep_alpha_fixed_point(\n",
    "    var_func_BO,\n",
    "    var_hat_func_BO_num_decorrelated_noise,\n",
    "    alpha_min,\n",
    "    alpha_max,\n",
    "    n_alpha_pts_BO,\n",
    "    {\"reg_param\": 1e-5},\n",
    "    {\n",
    "        \"delta_in\": delta_in,\n",
    "        \"delta_out\": delta_out,\n",
    "        \"percentage\": percentage,\n",
    "        \"beta\": beta,\n",
    "    },\n",
    "    initial_cond_fpe=(0.6, 0.01, 0.9),\n",
    "    funs=[gen_error_BO, q_order_param],\n",
    "    funs_args=[{\"delta_in\": delta_in, \"delta_out\": delta_out, \"percentage\": percentage, \"beta\": beta}, {}],\n",
    "    decreasing=False,\n",
    ")\n",
    "\n",
    "print(\"BO done\")"
   ]
  },
  {
   "attachments": {},
   "cell_type": "markdown",
   "metadata": {},
   "source": [
    "## Numerical Experiments"
   ]
  },
  {
   "cell_type": "code",
   "execution_count": 5,
   "metadata": {},
   "outputs": [
    {
     "name": "stdout",
     "output_type": "stream",
     "text": [
      "alphas expample\n",
      " [ 0.19179103  0.36783798  0.70548023  1.35304777  2.59502421  4.97702356\n",
      "  9.54548457 18.3073828  35.11191734 67.34150658]\n"
     ]
    }
   ],
   "source": [
    "d = 500\n",
    "repetitions = 10\n",
    "\n",
    "end = 4\n",
    "skip = 7\n",
    "\n",
    "print(\"alphas expample\\n\", alphas_L2[::skip][1:-end])"
   ]
  },
  {
   "cell_type": "code",
   "execution_count": 6,
   "metadata": {},
   "outputs": [
    {
     "data": {
      "application/vnd.jupyter.widget-view+json": {
       "model_id": "97c6e90fc8bd46bf80f65fb46ef98de2",
       "version_major": 2,
       "version_minor": 0
      },
      "text/plain": [
       "  0%|          | 0/10 [00:00<?, ?it/s]"
      ]
     },
     "metadata": {},
     "output_type": "display_data"
    },
    {
     "name": "stdout",
     "output_type": "stream",
     "text": [
      "L2 sim done\n"
     ]
    }
   ],
   "source": [
    "alpha_list_sim_L2 = alphas_L2[::skip][1:-end]\n",
    "lambd_list_L2 = reg_param_opt_L2[::skip][1:-end]\n",
    "\n",
    "L2_gen_error_sim_mean = np.zeros(len(alpha_list_sim_L2))\n",
    "L2_gen_error_sim_std = np.zeros(len(alpha_list_sim_L2))\n",
    "\n",
    "for i, (alpha, lambd) in enumerate(zip(tqdm(alpha_list_sim_L2), lambd_list_L2)):\n",
    "    all_gen_errors = np.empty((repetitions,))\n",
    "    for idx in range(repetitions):\n",
    "        xs, ys, xs_test, ys_test, ground_truth_theta = dg.data_generation(\n",
    "            dg.measure_gen_decorrelated,\n",
    "            n_features=d,\n",
    "            n_samples=max(int(np.around(d * alpha)), 1),\n",
    "            n_generalization=d,\n",
    "            measure_fun_args=(delta_in, delta_out, percentage, beta),\n",
    "        )\n",
    "\n",
    "        estimated_theta = erm.find_coefficients_L2(ys, xs, lambd)\n",
    "\n",
    "        all_gen_errors[idx] = np.mean((ys_test - xs_test @ estimated_theta / np.sqrt(d)) ** 2) - np.mean(\n",
    "            (ys_test - (1 - percentage + percentage * beta) * xs_test @ ground_truth_theta / np.sqrt(d)) ** 2\n",
    "        )\n",
    "\n",
    "        del xs, ys, xs_test, ys_test, ground_truth_theta, estimated_theta\n",
    "\n",
    "    L2_gen_error_sim_mean[i], L2_gen_error_sim_std[i] = np.mean(all_gen_errors), np.std(all_gen_errors) / np.sqrt(\n",
    "        repetitions\n",
    "    )\n",
    "\n",
    "print(\"L2 sim done\")"
   ]
  },
  {
   "cell_type": "code",
   "execution_count": 7,
   "metadata": {},
   "outputs": [
    {
     "data": {
      "application/vnd.jupyter.widget-view+json": {
       "model_id": "b0db3b689b924ec798fb0ed107769685",
       "version_major": 2,
       "version_minor": 0
      },
      "text/plain": [
       "  0%|          | 0/10 [00:00<?, ?it/s]"
      ]
     },
     "metadata": {},
     "output_type": "display_data"
    },
    {
     "name": "stdout",
     "output_type": "stream",
     "text": [
      "0.19179102616724888 5.874999867607793 9.941298240294065\n",
      "0.36783797718286343 5.8750001519214905 12.255925969440856\n",
      "0.7054802310718644 5.8750013124009834 14.713314647085843\n",
      "1.3530477745798075 5.874999599957423 16.110775685269022\n",
      "2.5950242113997373 5.874999401150143 17.73506408249901\n",
      "4.977023564332112 5.8750006118549365 18.603372005279944\n",
      "9.545484566618342 5.875001227307788 23.492144753677227\n",
      "18.307382802953697 5.875000104712105 26.97186972039156\n",
      "35.111917342151344 5.8750007806108036 33.457625041602896\n",
      "67.34150657750828 5.875002330590728 34.146331741566684\n",
      "Huber sim done.\n"
     ]
    }
   ],
   "source": [
    "alpha_list_sim_Hub = alphas_Hub[::skip][1:-end]\n",
    "a_list_Hub = hub_params_opt_Hub[::skip][1:-end]\n",
    "lambd_list_Hub = reg_param_opt_Hub[::skip][1:-end]\n",
    "\n",
    "Huber_gen_error_sim_mean = np.zeros(len(alpha_list_sim_Hub))\n",
    "Huber_gen_error_sim_std = np.zeros(len(alpha_list_sim_Hub))\n",
    "\n",
    "\n",
    "for i, (alpha, lambd, a) in enumerate(zip(tqdm(alpha_list_sim_Hub), lambd_list_Hub, a_list_Hub)):\n",
    "    all_gen_errors = np.empty((repetitions,))\n",
    "    for idx in range(repetitions):\n",
    "        xs, ys, xs_test, ys_test, ground_truth_theta = dg.data_generation(\n",
    "            dg.measure_gen_decorrelated,\n",
    "            n_features=d,\n",
    "            n_samples=max(int(np.around(d * alpha)), 1),\n",
    "            n_generalization=d,\n",
    "            measure_fun_args=(delta_in, delta_out, percentage, beta),\n",
    "        )\n",
    "\n",
    "        estimated_theta = erm.find_coefficients_Huber(ys, xs, lambd, a, 1.0)\n",
    "\n",
    "        all_gen_errors[idx] = np.mean((ys_test - xs_test @ estimated_theta / np.sqrt(d)) ** 2) - np.mean(\n",
    "            (ys_test - (1 - percentage + percentage * beta) * xs_test @ ground_truth_theta / np.sqrt(d)) ** 2\n",
    "        )\n",
    "\n",
    "        del xs, ys, xs_test, ys_test, ground_truth_theta, estimated_theta\n",
    "\n",
    "    Huber_gen_error_sim_mean[i], Huber_gen_error_sim_std[i] = np.mean(all_gen_errors), np.std(all_gen_errors) / np.sqrt(\n",
    "        repetitions\n",
    "    )\n",
    "\n",
    "print(\"Huber sim done.\")"
   ]
  },
  {
   "cell_type": "code",
   "execution_count": 22,
   "metadata": {},
   "outputs": [
    {
     "data": {
      "application/vnd.jupyter.widget-view+json": {
       "model_id": "2ada9250aa1d4c63a48d624e6c17dfe3",
       "version_major": 2,
       "version_minor": 0
      },
      "text/plain": [
       "  0%|          | 0/8 [00:00<?, ?it/s]"
      ]
     },
     "metadata": {},
     "output_type": "display_data"
    },
    {
     "name": "stdout",
     "output_type": "stream",
     "text": [
      "L1 sim done.\n"
     ]
    }
   ],
   "source": [
    "alpha_list_sim_L1 = alphas_L1[::skip][1:-end]\n",
    "lambd_list_L1 = reg_param_opt_L1[::skip][1:-end]\n",
    "\n",
    "a_val_L1 = 1e-3\n",
    "lambd_list_L1 *= a_val_L1\n",
    "\n",
    "L1_gen_error_sim_mean = np.zeros(len(alpha_list_sim_L1))\n",
    "L1_gen_error_sim_std = np.zeros(len(alpha_list_sim_L1))\n",
    "\n",
    "for i, (alpha, lambd) in enumerate(zip(tqdm(alpha_list_sim_L1), lambd_list_L1)):\n",
    "    all_gen_errors = np.empty((repetitions,))\n",
    "    for idx in range(repetitions):\n",
    "        xs, ys, xs_test, ys_test, ground_truth_theta = dg.data_generation(\n",
    "            dg.measure_gen_decorrelated,\n",
    "            n_features=d,\n",
    "            n_samples=max(int(np.around(d * alpha)), 1),\n",
    "            n_generalization=d,\n",
    "            measure_fun_args=(delta_in, delta_out, percentage, beta),\n",
    "        )\n",
    "\n",
    "        estimated_theta = erm.find_coefficients_Huber(ys, xs, lambd, a_val_L1)\n",
    "\n",
    "        all_gen_errors[idx] = np.mean((ys_test - xs_test @ estimated_theta / np.sqrt(d)) ** 2) - np.mean(\n",
    "            (ys_test - (1 - percentage + percentage * beta) * xs_test @ ground_truth_theta / np.sqrt(d)) ** 2\n",
    "        )\n",
    "\n",
    "        del xs, ys, xs_test, ys_test, ground_truth_theta, estimated_theta\n",
    "\n",
    "    L1_gen_error_sim_mean[i], L1_gen_error_sim_std[i] = np.mean(all_gen_errors), np.std(all_gen_errors) / np.sqrt(\n",
    "        repetitions\n",
    "    )\n",
    "\n",
    "print(\"L1 sim done.\")"
   ]
  },
  {
   "cell_type": "code",
   "execution_count": 23,
   "metadata": {},
   "outputs": [
    {
     "data": {
      "application/vnd.jupyter.widget-view+json": {
       "model_id": "bdcf3156f32e49759bd7f361107ba0ed",
       "version_major": 2,
       "version_minor": 0
      },
      "text/plain": [
       "  0%|          | 0/8 [00:00<?, ?it/s]"
      ]
     },
     "metadata": {},
     "output_type": "display_data"
    },
    {
     "name": "stdout",
     "output_type": "stream",
     "text": [
      "Huber fixed a sim done.\n"
     ]
    }
   ],
   "source": [
    "alpha_list_sim_Huber_a1 = alphas_Hub_2[::skip][1:-end]\n",
    "# a = a_hub_fixed\n",
    "lambd_list_Hub_fix = reg_param_opt_Hub_2[::skip][1:-end]\n",
    "\n",
    "Huber_gen_error_sim_mean_a1 = np.zeros(len(alpha_list_sim_Huber_a1))\n",
    "Huber_gen_error_sim_std_a1 = np.zeros(len(alpha_list_sim_Huber_a1))\n",
    "\n",
    "for i, (alpha, lambd) in enumerate(zip(tqdm(alpha_list_sim_Huber_a1), lambd_list_Hub_fix)):\n",
    "    all_gen_errors = np.empty((repetitions,))\n",
    "    for idx in range(repetitions):\n",
    "        xs, ys, xs_test, ys_test, ground_truth_theta = dg.data_generation(\n",
    "            dg.measure_gen_decorrelated,\n",
    "            n_features=d,\n",
    "            n_samples=max(int(np.around(d * alpha)), 1),\n",
    "            n_generalization=d,\n",
    "            measure_fun_args=(delta_in, delta_out, percentage, beta),\n",
    "        )\n",
    "\n",
    "        estimated_theta = erm.find_coefficients_Huber(ys, xs, lambd, a_hub_fixed)\n",
    "\n",
    "        all_gen_errors[idx] = np.mean((ys_test - xs_test @ estimated_theta / np.sqrt(d)) ** 2) - np.mean(\n",
    "            (ys_test - (1 - percentage + percentage * beta) * xs_test @ ground_truth_theta / np.sqrt(d)) ** 2\n",
    "        )\n",
    "\n",
    "        del xs, ys, xs_test, ys_test, ground_truth_theta, estimated_theta\n",
    "\n",
    "    Huber_gen_error_sim_mean_a1[i], Huber_gen_error_sim_std_a1[i] = np.mean(all_gen_errors), np.std(\n",
    "        all_gen_errors\n",
    "    ) / np.sqrt(repetitions)\n",
    "\n",
    "print(\"Huber fixed a sim done.\")"
   ]
  },
  {
   "cell_type": "code",
   "execution_count": 81,
   "metadata": {},
   "outputs": [
    {
     "data": {
      "application/vnd.jupyter.widget-view+json": {
       "model_id": "38b545766bfe48d2aa72dedb8d510ff7",
       "version_major": 2,
       "version_minor": 0
      },
      "text/plain": [
       "  0%|          | 0/23 [00:00<?, ?it/s]"
      ]
     },
     "metadata": {},
     "output_type": "display_data"
    },
    {
     "name": "stdout",
     "output_type": "stream",
     "text": [
      "GAMP sim done.\n"
     ]
    }
   ],
   "source": [
    "alphas = np.array(\n",
    "    [\n",
    "        1.34977233e-01,\n",
    "        1.82188534e-01,\n",
    "        2.45913043e-01,\n",
    "        3.31926620e-01,\n",
    "        4.48025368e-01,\n",
    "        6.04732245e-01,\n",
    "        8.16250851e-01,\n",
    "        1.10175281e00,\n",
    "        1.48711546e00,\n",
    "        2.00726730e00,\n",
    "        2.70935387e00,\n",
    "        3.65701088e00,\n",
    "        4.93613210e00,\n",
    "        6.66265452e00,\n",
    "        8.99306672e00,\n",
    "        1.21385926e01,\n",
    "        1.63843365e01,\n",
    "        2.21151240e01,\n",
    "        2.98503825e01,\n",
    "        4.02912203e01,\n",
    "        5.43839743e01,\n",
    "        7.34059837e01,\n",
    "        9.90813657e01\n",
    "    ]\n",
    ")\n",
    "\n",
    "means_gen_error = []\n",
    "stds_gen_error = []\n",
    "\n",
    "alphas_2 = []\n",
    "\n",
    "for _, alpha in enumerate(tqdm(alphas)):\n",
    "    all_gen_errors = []\n",
    "    all_estim_errors = []\n",
    "\n",
    "    for _ in range(repetitions):\n",
    "        try:\n",
    "            xs, ys, xs_test, ys_test, ground_truth_theta = dg.data_generation(\n",
    "                dg.measure_gen_decorrelated,\n",
    "                n_features=d,\n",
    "                n_samples=max(int(np.around(d * alpha)), 1),\n",
    "                n_generalization=2 * d,\n",
    "                measure_fun_args=(delta_in, delta_out, percentage, beta),\n",
    "            )\n",
    "\n",
    "            estimated_theta, _ = amp.GAMP_unsimplified_iters(\n",
    "                priors.f_w_Bayes_gaussian_prior,\n",
    "                priors.Df_w_Bayes_gaussian_prior,\n",
    "                like.f_out_Bayes_decorrelated_noise,\n",
    "                like.Df_out_Bayes_decorrelated_noise,\n",
    "                ys,\n",
    "                xs,\n",
    "                (0.0, 1.0),\n",
    "                (delta_in, delta_out, percentage, beta),\n",
    "                np.random.normal(size=d),\n",
    "                1.0,\n",
    "                max_iter=10_000,\n",
    "                blend=0.85,\n",
    "            )\n",
    "\n",
    "            all_gen_errors.append(\n",
    "                np.mean((ys_test - (1 - percentage + percentage * beta) * xs_test @ estimated_theta / np.sqrt(d)) ** 2)\n",
    "                - np.mean(\n",
    "                    (ys_test - (1 - percentage + percentage * beta) * xs_test @ ground_truth_theta / np.sqrt(d)) ** 2\n",
    "                )\n",
    "            )\n",
    "\n",
    "            all_estim_errors.append(np.mean(np.square(estimated_theta - ground_truth_theta)))\n",
    "\n",
    "            del xs, ys, xs_test, ys_test, ground_truth_theta, estimated_theta\n",
    "\n",
    "        except ConvergenceError:\n",
    "            continue\n",
    "\n",
    "    means_gen_error.append(np.mean(all_gen_errors))\n",
    "    stds_gen_error.append(np.std(all_gen_errors) / np.sqrt(repetitions))\n",
    "\n",
    "    alphas_2.append(alpha)\n",
    "print(\"GAMP sim done.\")"
   ]
  },
  {
   "attachments": {},
   "cell_type": "markdown",
   "metadata": {},
   "source": [
    "## Plotting"
   ]
  },
  {
   "cell_type": "code",
   "execution_count": 8,
   "metadata": {},
   "outputs": [
    {
     "data": {
      "image/png": "[encoded data removed]",
      "text/plain": [
       "<Figure size 700x700 with 1 Axes>"
      ]
     },
     "metadata": {},
     "output_type": "display_data"
    }
   ],
   "source": [
    "plt.figure(figsize=(7, 7))\n",
    "\n",
    "plt.title(\n",
    "    \"$\\\\alpha$ sweep, $\\\\Delta_{{in}} = {}$, $\\\\Delta_{{out}} = {}$, $\\\\epsilon = {}$, $\\\\beta = {}$\".format(\n",
    "        delta_in, delta_out, percentage, beta\n",
    "    )\n",
    ")\n",
    "\n",
    "plt.plot(alphas_L2, f_min_vals_L2, label=\"L2\")\n",
    "plt.errorbar(alpha_list_sim_L2, L2_gen_error_sim_mean, L2_gen_error_sim_std, linestyle=\" \", marker=\".\", label=\"L2 sim\")\n",
    "# plt.plot(alphas_L1, f_min_vals_L1, label=\"L1\")\n",
    "# plt.errorbar(alpha_list_sim_L1, L1_gen_error_sim_mean, L1_gen_error_sim_std, linestyle=\" \", marker=\".\", label=\"L1 sim\")\n",
    "plt.plot(alphas_Hub, f_min_vals_Hub, label=\"Huber\")\n",
    "plt.errorbar(\n",
    "    alpha_list_sim_Hub, Huber_gen_error_sim_mean, Huber_gen_error_sim_std, linestyle=\" \", marker=\".\", label=\"Huber sim\"\n",
    ")\n",
    "# plt.plot(alphas_Hub_2, f_min_vals_Hub_2, label=\"Huber a={:.1f}\".format(a_hub_fixed))\n",
    "# plt.errorbar(\n",
    "#     alpha_list_sim_Huber_a1,\n",
    "#     Huber_gen_error_sim_mean_a1,\n",
    "#     Huber_gen_error_sim_std_a1,\n",
    "#     linestyle=\" \",\n",
    "#     marker=\".\",\n",
    "#     label=\"Huber a={:.1f} sim\".format(a_hub_fixed),\n",
    "# )\n",
    "# plt.plot(alphas_BO, gen_error_BO_old, label=\"BO\")\n",
    "# plt.errorbar(alphas_2, means_gen_error, yerr=stds_gen_error, label=\"GAMP\", marker=\".\", linestyle=None)\n",
    "\n",
    "plt.yscale(\"log\")\n",
    "plt.xscale(\"log\")\n",
    "plt.ylabel(r\"$E_{gen}^{excess}$\")\n",
    "plt.legend()\n",
    "plt.grid()\n",
    "\n",
    "plt.show()"
   ]
  },
  {
   "cell_type": "code",
   "execution_count": null,
   "metadata": {},
   "outputs": [],
   "source": []
  }
 ],
 "metadata": {
  "kernelspec": {
   "display_name": "rrenv",
   "language": "python",
   "name": "python3"
  },
  "language_info": {
   "codemirror_mode": {
    "name": "ipython",
    "version": 3
   },
   "file_extension": ".py",
   "mimetype": "text/x-python",
   "name": "python",
   "nbconvert_exporter": "python",
   "pygments_lexer": "ipython3",
   "version": "3.10.11"
  },
  "orig_nbformat": 4
 },
 "nbformat": 4,
 "nbformat_minor": 2
}
